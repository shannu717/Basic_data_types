{
 "cells": [
  {
   "cell_type": "markdown",
   "id": "7cf61f28",
   "metadata": {},
   "source": [
    " # List comprehensions"
   ]
  },
  {
   "cell_type": "code",
   "execution_count": 1,
   "id": "793019fe",
   "metadata": {},
   "outputs": [
    {
     "name": "stdout",
     "output_type": "stream",
     "text": [
      "1\n",
      "1\n",
      "1\n",
      "2\n",
      "[[0, 0, 0], [0, 0, 1], [0, 1, 0], [1, 0, 0], [1, 1, 1]]\n"
     ]
    }
   ],
   "source": [
    "if __name__ == '__main__':\n",
    "    x = int(input())\n",
    "    y = int(input())\n",
    "    z = int(input())\n",
    "    n = int(input())\n",
    "\n",
    "    print(list([i,j,k] for i in range(x+1) for j in range(y+1) for k in range(z+1)  if i+j+k !=n))"
   ]
  },
  {
   "cell_type": "markdown",
   "id": "cb95be09",
   "metadata": {},
   "source": [
    "# Find the Runner-Up Score!"
   ]
  },
  {
   "cell_type": "code",
   "execution_count": 4,
   "id": "aa192b90",
   "metadata": {},
   "outputs": [
    {
     "name": "stdout",
     "output_type": "stream",
     "text": [
      "5\n",
      "2 3 6 6 5\n",
      "Z= 5\n"
     ]
    }
   ],
   "source": [
    "if __name__ == '__main__':\n",
    "    n = int(input())\n",
    "    arr = map(int, input().split())\n",
    "    arr = list(arr)\n",
    "    x = max(arr)\n",
    "    y = -9999999\n",
    "    for i in range(0,n):\n",
    "        if arr[i]<x and arr[i] > y:\n",
    "            y = arr[i]\n",
    "    \n",
    "    print(\"Z=\",y)"
   ]
  },
  {
   "cell_type": "markdown",
   "id": "198b4428",
   "metadata": {},
   "source": [
    "# Nested lists"
   ]
  },
  {
   "cell_type": "code",
   "execution_count": null,
   "id": "55504b48",
   "metadata": {},
   "outputs": [],
   "source": [
    "Result =[]\n",
    "scorelist = []\n",
    "if __name__ == '__main__':\n",
    "    for _ in range(int(input())):\n",
    "        name = input()\n",
    "        score = float(input())\n",
    "        Result+=[[name,score]]\n",
    "        scorelist+=[score]\n",
    "    b=sorted(list(set(scorelist)))[1] \n",
    "    for a,c in sorted(Result):\n",
    "        if c==b:\n",
    "            print(a)"
   ]
  },
  {
   "cell_type": "markdown",
   "id": "3e239799",
   "metadata": {},
   "source": [
    "# Finding the percentage"
   ]
  },
  {
   "cell_type": "code",
   "execution_count": null,
   "id": "223bf5da",
   "metadata": {},
   "outputs": [],
   "source": [
    "if __name__ == '__main__':\n",
    "    n = int(input())\n",
    "    student_marks = {}\n",
    "    for _ in range(n):\n",
    "        name, *line = input().split()\n",
    "        scores = list(map(float, line))\n",
    "        student_marks[name] = scores\n",
    "    query_name = input()\n",
    "output = list(student_marks[query_name])    \n",
    "per = sum(output)/len(output);\n",
    "print(\"%.2f\" % per);    "
   ]
  },
  {
   "cell_type": "markdown",
   "id": "50f59066",
   "metadata": {},
   "source": [
    "# Lists "
   ]
  },
  {
   "cell_type": "code",
   "execution_count": null,
   "id": "9741540b",
   "metadata": {},
   "outputs": [],
   "source": [
    "if __name__ == '__main__':\n",
    "    N = int(input())\n",
    "    L=[];\n",
    "    for i in range(0,N):\n",
    "        cmd=input().split();\n",
    "        if cmd[0] == \"insert\":\n",
    "            L.insert(int(cmd[1]),int(cmd[2]))\n",
    "        elif cmd[0] == \"append\":\n",
    "            L.append(int(cmd[1]))\n",
    "        elif cmd[0] == \"pop\":\n",
    "            L.pop();\n",
    "        elif cmd[0] == \"print\":\n",
    "            print(L)\n",
    "        elif cmd[0] == \"remove\":\n",
    "            L.remove(int(cmd[1]))\n",
    "        elif cmd[0] == \"sort\":\n",
    "            L.sort();\n",
    "        else:\n",
    "            L.reverse();"
   ]
  },
  {
   "cell_type": "markdown",
   "id": "be621dd6",
   "metadata": {},
   "source": [
    "# Tuples"
   ]
  },
  {
   "cell_type": "code",
   "execution_count": 1,
   "id": "f87307d3",
   "metadata": {},
   "outputs": [
    {
     "name": "stdout",
     "output_type": "stream",
     "text": [
      "2\n",
      "1 2\n",
      "-3550055125485641917\n"
     ]
    }
   ],
   "source": [
    "if __name__ == '__main__':\n",
    "    n = int(input())\n",
    "    integer_list = map(int, input().split())\n",
    "    print(hash(tuple(integer_list)))"
   ]
  },
  {
   "cell_type": "markdown",
   "id": "632959f4",
   "metadata": {},
   "source": [
    "# Introduction to sets"
   ]
  },
  {
   "cell_type": "code",
   "execution_count": null,
   "id": "79c06241",
   "metadata": {},
   "outputs": [],
   "source": [
    "def average(array):\n",
    "    return sum(set(array))/len(set(array))\n",
    "if __name__ == '__main__':\n",
    "    n = int(input())\n",
    "    arr = list(map(int, input().split()))\n",
    "    result = average(arr)\n",
    "    print(result)\n"
   ]
  },
  {
   "cell_type": "markdown",
   "id": "6a8e928b",
   "metadata": {},
   "source": [
    "# No idea"
   ]
  },
  {
   "cell_type": "code",
   "execution_count": null,
   "id": "c88d779a",
   "metadata": {},
   "outputs": [],
   "source": [
    "# Enter your code here. Read input from STDIN. Print output to STDOUT\n",
    "n, m = input().split()\n",
    "\n",
    "sc_ar = input().split()\n",
    "\n",
    "A = set(input().split())\n",
    "B = set(input().split())\n",
    "print(sum([(i in A) - (i in B) for i in sc_ar]))"
   ]
  },
  {
   "cell_type": "markdown",
   "id": "0f5971bf",
   "metadata": {},
   "source": [
    "# Symmetric difference"
   ]
  },
  {
   "cell_type": "code",
   "execution_count": null,
   "id": "929d61b9",
   "metadata": {},
   "outputs": [],
   "source": [
    "# Enter your code here. Read input from STDIN. Print output to STDOUT\n",
    "a,b = [set(input().split()) for _ in range(4)][1::2]\n",
    "print('\\n'.join(sorted(a^b, key=int)))"
   ]
  },
  {
   "cell_type": "markdown",
   "id": "32135615",
   "metadata": {},
   "source": [
    "# Set.add()"
   ]
  },
  {
   "cell_type": "code",
   "execution_count": null,
   "id": "7cd898bb",
   "metadata": {},
   "outputs": [],
   "source": [
    "# Enter your code here. Read input from STDIN. Print output to STDOUT\n",
    "a = set()\n",
    "[a.add(input()) for _ in range(int(input()))]\n",
    "print(len(a))"
   ]
  },
  {
   "cell_type": "markdown",
   "id": "4ee19661",
   "metadata": {},
   "source": [
    "# Set .discard(), .remove() & .pop()"
   ]
  },
  {
   "cell_type": "code",
   "execution_count": null,
   "id": "b97d6c58",
   "metadata": {},
   "outputs": [],
   "source": [
    "import pdb\n",
    "m = int(input())\n",
    "lst=[int(j) for j in input().strip().split()]\n",
    "lst.reverse()\n",
    "st=set(lst)\n",
    "n= int(input())\n",
    "for i in range(n):\n",
    "    command = input().strip().split()\n",
    "    #pdb.set_trace()\n",
    "    if len(command) ==1 :\n",
    "        methodToCall = getattr(st, command[0])\n",
    "        methodToCall()\n",
    "        #print(st)   \n",
    "    else:\n",
    "        commd, *args= [command[0], int(command[1])]\n",
    "        getattr(st, commd)(*args)\n",
    "        #print(st)   \n",
    "print(sum(st))"
   ]
  },
  {
   "cell_type": "markdown",
   "id": "0980fbbb",
   "metadata": {},
   "source": [
    "# Set .union() Operation"
   ]
  },
  {
   "cell_type": "code",
   "execution_count": null,
   "id": "a43dc094",
   "metadata": {},
   "outputs": [],
   "source": [
    "n = int(input())\n",
    "A = set(map(int, input().split()))\n",
    "m = int(input())\n",
    "B = set(map(int, input().split()))\n",
    "\n",
    "ans = A.union(B)\n",
    "print(len(ans))"
   ]
  },
  {
   "cell_type": "markdown",
   "id": "00063978",
   "metadata": {},
   "source": [
    "# Set .intersection() Operation"
   ]
  },
  {
   "cell_type": "code",
   "execution_count": null,
   "id": "90199d43",
   "metadata": {},
   "outputs": [],
   "source": [
    "n1=input()\n",
    "li1 = input().split()\n",
    "s1 = set(li1)\n",
    "n2=input()\n",
    "li2 = input().split()\n",
    "s2 = set(li2)\n",
    "s1s2 = s1.intersection(s2)\n",
    "print(len(s1s2))"
   ]
  },
  {
   "cell_type": "markdown",
   "id": "a06b01be",
   "metadata": {},
   "source": [
    "# Set .difference() Operation"
   ]
  },
  {
   "cell_type": "code",
   "execution_count": null,
   "id": "a8719963",
   "metadata": {},
   "outputs": [],
   "source": [
    "n1=input()\n",
    "li1 = input().split()\n",
    "s1 = set(li1)\n",
    "n2=input()\n",
    "li2 = input().split()\n",
    "s2 = set(li2)\n",
    "s1s2 = s1.difference(s2)\n",
    "print(len(s1s2))"
   ]
  },
  {
   "cell_type": "markdown",
   "id": "c3f2d7d6",
   "metadata": {},
   "source": [
    "# Set .symmetric_difference() Operation"
   ]
  },
  {
   "cell_type": "code",
   "execution_count": null,
   "id": "ddb061d2",
   "metadata": {},
   "outputs": [],
   "source": [
    "n1=input()\n",
    "li1 = input().split()\n",
    "s1 = set(li1)\n",
    "n2=input()\n",
    "li2 = input().split()\n",
    "s2 = set(li2)\n",
    "s1s2 = s1.symmetric_difference(s2)\n",
    "print(len(s1s2))"
   ]
  },
  {
   "cell_type": "markdown",
   "id": "d2ff9968",
   "metadata": {},
   "source": [
    "# Set Mutations"
   ]
  },
  {
   "cell_type": "code",
   "execution_count": null,
   "id": "fea58420",
   "metadata": {},
   "outputs": [],
   "source": [
    "n = input()\n",
    "s = set(map(int, input().split())) \n",
    "\n",
    "for _ in range(int(input())):\n",
    "    args = input().strip().split()\n",
    "    nw= set(map(int, input().split())) \n",
    "    eval(\"s.\" + args[0] + \"(  nw  )\")\n",
    "print(sum(s))"
   ]
  },
  {
   "cell_type": "markdown",
   "id": "9e7cb81d",
   "metadata": {},
   "source": [
    "# The Captain's Room"
   ]
  },
  {
   "cell_type": "code",
   "execution_count": null,
   "id": "9f8cac7e",
   "metadata": {},
   "outputs": [],
   "source": [
    "counts = dict()\n",
    "n = input()\n",
    "number = input().split()\n",
    "for i in number:\n",
    "    if i not in counts:\n",
    "        counts[i] = 1\n",
    "    else:\n",
    "        counts[i] += 1\n",
    "for i in counts:\n",
    "    if counts[i] == 1:\n",
    "        print (i)"
   ]
  },
  {
   "cell_type": "markdown",
   "id": "90bfd2b6",
   "metadata": {},
   "source": [
    "# Check Subset"
   ]
  },
  {
   "cell_type": "code",
   "execution_count": null,
   "id": "da19726a",
   "metadata": {},
   "outputs": [],
   "source": [
    "for i in range(int(input())): \n",
    "    a = int(input()); A = set(input().split()) \n",
    "    b = int(input()); B = set(input().split())\n",
    "    if(len(A.difference(B))==0):\n",
    "        print(\"True\")\n",
    "    else:\n",
    "        print(\"False\")"
   ]
  },
  {
   "cell_type": "markdown",
   "id": "831571a3",
   "metadata": {},
   "source": [
    "# Check Strict Superset"
   ]
  },
  {
   "cell_type": "code",
   "execution_count": null,
   "id": "e259469a",
   "metadata": {},
   "outputs": [],
   "source": [
    "A = set(input().split())\n",
    "N = int(input())\n",
    "print(all(A > set(input().split())  for _ in range(N)))"
   ]
  }
 ],
 "metadata": {
  "kernelspec": {
   "display_name": "Python 3 (ipykernel)",
   "language": "python",
   "name": "python3"
  },
  "language_info": {
   "codemirror_mode": {
    "name": "ipython",
    "version": 3
   },
   "file_extension": ".py",
   "mimetype": "text/x-python",
   "name": "python",
   "nbconvert_exporter": "python",
   "pygments_lexer": "ipython3",
   "version": "3.9.13"
  },
  "varInspector": {
   "cols": {
    "lenName": 16,
    "lenType": 16,
    "lenVar": 40
   },
   "kernels_config": {
    "python": {
     "delete_cmd_postfix": "",
     "delete_cmd_prefix": "del ",
     "library": "var_list.py",
     "varRefreshCmd": "print(var_dic_list())"
    },
    "r": {
     "delete_cmd_postfix": ") ",
     "delete_cmd_prefix": "rm(",
     "library": "var_list.r",
     "varRefreshCmd": "cat(var_dic_list()) "
    }
   },
   "types_to_exclude": [
    "module",
    "function",
    "builtin_function_or_method",
    "instance",
    "_Feature"
   ],
   "window_display": false
  }
 },
 "nbformat": 4,
 "nbformat_minor": 5
}
